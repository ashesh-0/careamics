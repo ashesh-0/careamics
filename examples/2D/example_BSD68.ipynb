{
 "cells": [
  {
   "cell_type": "code",
   "execution_count": null,
   "metadata": {},
   "outputs": [],
   "source": [
    "from pathlib import Path\n",
    "\n",
    "import numpy as np\n",
    "import torchsummary\n",
    "from careamics_portfolio import PortfolioManager\n",
    "from matplotlib.pyplot import imshow, subplots\n",
    "\n",
    "from careamics_restoration.engine import Engine\n",
    "from careamics_restoration.metrics import psnr"
   ]
  },
  {
   "attachments": {},
   "cell_type": "markdown",
   "metadata": {},
   "source": [
    "Import Dataset Portfolio"
   ]
  },
  {
   "cell_type": "code",
   "execution_count": null,
   "metadata": {},
   "outputs": [],
   "source": [
    "# Explore portfolio\n",
    "portfolio = PortfolioManager()\n",
    "print(portfolio.denoising)"
   ]
  },
  {
   "attachments": {},
   "cell_type": "markdown",
   "metadata": {},
   "source": [
    "Read the specific dataset \n",
    "bla "
   ]
  },
  {
   "cell_type": "code",
   "execution_count": null,
   "metadata": {},
   "outputs": [],
   "source": [
    "# Download files\n",
    "root_path = Path(\"data\")\n",
    "files = portfolio.denoising.N2V_BSD68.download(root_path)\n",
    "print(f\"List of downloaded files: {files}\")"
   ]
  },
  {
   "attachments": {},
   "cell_type": "markdown",
   "metadata": {},
   "source": [
    "Visualize"
   ]
  },
  {
   "attachments": {},
   "cell_type": "markdown",
   "metadata": {},
   "source": [
    "Load and visualize config file\n"
   ]
  },
  {
   "cell_type": "code",
   "execution_count": null,
   "metadata": {},
   "outputs": [],
   "source": [
    "# path_to_config = Path(\"../src/configs/n2v_2D_config.yml\")\n",
    "# config = config_loader(path_to_config)\n",
    "# pprint.PrettyPrinter(indent=2).pprint(config)"
   ]
  },
  {
   "attachments": {},
   "cell_type": "markdown",
   "metadata": {},
   "source": [
    "Initialize the Engine"
   ]
  },
  {
   "cell_type": "code",
   "execution_count": null,
   "metadata": {},
   "outputs": [],
   "source": [
    "engine = Engine(config_path=\"n2v_2D_BSD.yml\")"
   ]
  },
  {
   "attachments": {},
   "cell_type": "markdown",
   "metadata": {},
   "source": [
    "Visualize tiles ?"
   ]
  },
  {
   "attachments": {},
   "cell_type": "markdown",
   "metadata": {},
   "source": [
    "\n",
    "Start training"
   ]
  },
  {
   "cell_type": "code",
   "execution_count": null,
   "metadata": {},
   "outputs": [],
   "source": [
    "torchsummary.summary(engine.model, (1, 64, 64))"
   ]
  },
  {
   "cell_type": "code",
   "execution_count": null,
   "metadata": {},
   "outputs": [],
   "source": [
    "engine.train(train_path=Path(files[0]).parent, val_path=Path(files[1]).parent)"
   ]
  },
  {
   "cell_type": "code",
   "execution_count": null,
   "metadata": {},
   "outputs": [],
   "source": [
    "# Temporary hack, because, you know ... una grande cazzata\n",
    "pred_input = np.load(\n",
    "    \"/home/igor.zubarev/projects/caremics/examples/data/BSD68_reproducibility/BSD68_reproducibility_data/test/img.npy\"\n",
    ")\n",
    "pred_input_full = np.load(\n",
    "    \"/home/igor.zubarev/projects/caremics/examples/data/BSD68_reproducibility/BSD68_reproducibility_data/test_full/bsd68_gaussian25.npy\",\n",
    "    allow_pickle=True,\n",
    ")\n",
    "\n",
    "gt = np.load(\n",
    "    \"/home/igor.zubarev/projects/caremics/examples/data/BSD68_reproducibility/BSD68_reproducibility_data/gt/gt.npy\"\n",
    ")\n",
    "orig_pred = np.load(\n",
    "    \"/home/igor.zubarev/projects/caremics/examples/data/BSD68_reproducibility/BSD68_reproducibility_data/gt/pred.npy\"\n",
    ")\n",
    "pred_10ep = np.load(\n",
    "    \"/home/igor.zubarev/projects/caremics/examples/data/BSD68_reproducibility/BSD68_reproducibility_data/gt/pred_tf_10ep.npy\"\n",
    ")\n",
    "pred_10ep_tf = np.load(\n",
    "    \"/home/igor.zubarev/projects/caremics/examples/data/BSD68_reproducibility/BSD68_reproducibility_data/gt/prediction_tf_n2v_bsd68_gaussian25_0.npy\"\n",
    ")\n",
    "print(pred_input[0][100:, :156].shape)\n",
    "imshow(pred_input[0][100:, :156], cmap=\"gray\")"
   ]
  },
  {
   "attachments": {},
   "cell_type": "markdown",
   "metadata": {},
   "source": [
    "Predict"
   ]
  },
  {
   "cell_type": "code",
   "execution_count": null,
   "metadata": {},
   "outputs": [],
   "source": [
    "preds = engine.predict(\n",
    "    external_input=pred_input_full[0][np.newaxis, np.newaxis, :100, :156]\n",
    ")"
   ]
  },
  {
   "cell_type": "code",
   "execution_count": null,
   "metadata": {},
   "outputs": [],
   "source": [
    "print(preds.shape)"
   ]
  },
  {
   "cell_type": "code",
   "execution_count": null,
   "metadata": {},
   "outputs": [],
   "source": [
    "# print(tiles[0][0].shape)"
   ]
  },
  {
   "cell_type": "code",
   "execution_count": null,
   "metadata": {},
   "outputs": [],
   "source": [
    "# preds = tiles[0][0]#np.concatenate(tiles)\n",
    "print(preds.min(), preds.max())\n",
    "print(gt.min(), gt.max())\n",
    "print(orig_pred.min(), orig_pred.max())\n",
    "print(pred_10ep.min(), pred_10ep.max())\n",
    "print(pred_10ep_tf.min(), pred_10ep_tf.max())"
   ]
  },
  {
   "cell_type": "code",
   "execution_count": null,
   "metadata": {},
   "outputs": [],
   "source": [
    "imshow(preds.squeeze(), cmap=\"gray\")"
   ]
  },
  {
   "attachments": {},
   "cell_type": "markdown",
   "metadata": {},
   "source": [
    "Visualize and compute metrics\n"
   ]
  },
  {
   "cell_type": "code",
   "execution_count": null,
   "metadata": {},
   "outputs": [],
   "source": [
    "print(preds.shape)\n",
    "_, ax = subplots(2, 2, figsize=(40, 40))\n",
    "ax[0][0].imshow(pred_input[0], cmap=\"gray\")\n",
    "ax[0][1].imshow(preds[0].squeeze(), cmap=\"gray\")\n",
    "ax[1][0].imshow(orig_pred[0], cmap=\"gray\")\n",
    "ax[1][1].imshow(pred_10ep_tf[:256, :256], cmap=\"gray\")"
   ]
  },
  {
   "cell_type": "code",
   "execution_count": null,
   "metadata": {},
   "outputs": [],
   "source": [
    "print(gt[0].shape, preds.squeeze().shape)\n",
    "psnr_new = psnr(gt, preds.squeeze())\n",
    "psnr_old = psnr(gt, orig_pred)\n",
    "\n",
    "print(f\"PSNR new: {psnr_new}, PSNR old: {psnr_old}\")"
   ]
  },
  {
   "cell_type": "code",
   "execution_count": null,
   "metadata": {},
   "outputs": [],
   "source": [
    "sub = orig_pred[0] - preds[0].squeeze()\n",
    "sub_pre = orig_pred[0] - pred_10ep_tf[:256, :256]\n",
    "sub_n_p = preds[0].squeeze() - pred_10ep_tf[:256, :256]\n",
    "\n",
    "_, ax = subplots(1, 3, figsize=(40, 40))\n",
    "ax[0].imshow(sub, cmap=\"gray\")\n",
    "ax[1].imshow(sub_pre, cmap=\"gray\")\n",
    "ax[2].imshow(sub_n_p, cmap=\"gray\")"
   ]
  },
  {
   "cell_type": "code",
   "execution_count": null,
   "metadata": {},
   "outputs": [],
   "source": []
  }
 ],
 "metadata": {
  "kernelspec": {
   "display_name": "Python 3.11.3 ('caremics')",
   "language": "python",
   "name": "python3"
  },
  "language_info": {
   "codemirror_mode": {
    "name": "ipython",
    "version": 3
   },
   "file_extension": ".py",
   "mimetype": "text/x-python",
   "name": "python",
   "nbconvert_exporter": "python",
   "pygments_lexer": "ipython3",
   "version": "3.8.17"
  },
  "vscode": {
   "interpreter": {
    "hash": "0d2a5a3ab9ff26e8b66efec3883fa5121030bb852a7a4271db665831444e4e91"
   }
  }
 },
 "nbformat": 4,
 "nbformat_minor": 2
}
